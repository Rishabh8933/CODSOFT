{
  "metadata": {
    "kernelspec": {
      "language": "python",
      "display_name": "Python 3",
      "name": "python3"
    },
    "language_info": {
      "name": "python",
      "version": "3.7.12",
      "mimetype": "text/x-python",
      "codemirror_mode": {
        "name": "ipython",
        "version": 3
      },
      "pygments_lexer": "ipython3",
      "nbconvert_exporter": "python",
      "file_extension": ".py"
    },
    "colab": {
      "provenance": []
    }
  },
  "nbformat_minor": 0,
  "nbformat": 4,
  "cells": [
    {
      "cell_type": "markdown",
      "source": [
        "I will show you how to build your very own chatbot using Python.\n",
        "There are broadly two variants of chatbots, Rule-based and Self-learning.\n",
        "A rule-based bot uses some rules on which it is trained,\n",
        "while a self-learning bot uses some machine-learning-based approach to chat."
      ],
      "metadata": {
        "id": "joexvQAJDv3H"
      }
    },
    {
      "cell_type": "markdown",
      "source": [
        "**Import the libraries**"
      ],
      "metadata": {
        "id": "uk7ETgttDv3I"
      }
    },
    {
      "cell_type": "code",
      "source": [
        "from nltk.chat.util import Chat, reflections"
      ],
      "metadata": {
        "execution": {
          "iopub.status.busy": "2022-09-01T05:37:17.203690Z",
          "iopub.execute_input": "2022-09-01T05:37:17.204107Z",
          "iopub.status.idle": "2022-09-01T05:37:17.210124Z",
          "shell.execute_reply.started": "2022-09-01T05:37:17.204072Z",
          "shell.execute_reply": "2022-09-01T05:37:17.208727Z"
        },
        "trusted": true,
        "id": "bd5bEGUFDv3J"
      },
      "execution_count": 9,
      "outputs": []
    },
    {
      "cell_type": "code",
      "source": [
        "pairs = [\n",
        "    [\n",
        "        r\"(.*)chat\",\n",
        "        [\"Hi! How can I help you? \"]\n",
        "    ],\n",
        "\n",
        "    [\n",
        "        r\"(.*)query\",\n",
        "        [\"I am here for your help\"]\n",
        "    ],\n",
        "\n",
        "    [\n",
        "        r\"(.*)help(.*) \",\n",
        "        [\"What do you need help with?\",]\n",
        "    ],\n",
        "\n",
        "    [\n",
        "        r\"(.*)programmer \",\n",
        "        [\"I was developed by Rishabh Sood as a Codsoft internship project\"]\n",
        "    ],\n",
        "\n",
        "    [\n",
        "        r\"(.*)name|your name(.*)\",\n",
        "        [\"I was named Amadeus\",]\n",
        "    ],\n",
        "\n",
        "    [\n",
        "        r\"how are you (.*) ?\",\n",
        "        [\"I'm doing great! What about you?\",]\n",
        "\n",
        "    ],\n",
        "\n",
        "    [\n",
        "        r\"i'm (.*) (great|fine|good|ok)\",\n",
        "        [\"That's amazing!\",]\n",
        "    ],\n",
        "\n",
        "    [\n",
        "        r\"i'm (.*) (sad|bad|gloomy)\",\n",
        "        [\"Cheer up friend! There are good things ahead\",]\n",
        "    ],\n",
        "\n",
        "    [\n",
        "        r\"sing me a song (.*)\",\n",
        "        [\"I am too shy for that :(\",]\n",
        "    ],\n",
        "\n",
        "    [\n",
        "        r\"(.*)are you married(.*)\",\n",
        "        [\"I'm happy to say I feel whole all on my own. Plus, I never have to share dessert.\",]\n",
        "    ],\n",
        "\n",
        "    [\n",
        "        r\"(.*)self destruct (.*)\",\n",
        "        [\"*Exploding noises* OK, self destructed! Let me know if I can help you with anything else.\",]\n",
        "    ],\n",
        "\n",
        "    [\n",
        "        r\"(.*)do you speak morse code (.*)\",\n",
        "        [\"-.-- . ... That means 'yes'.\",]\n",
        "    ],\n",
        "\n",
        "    [\n",
        "        r\"(.*)what is the best pickup line (.*)\",\n",
        "        [\"Are you the sun? Because you light up my world\",]\n",
        "    ],\n",
        "\n",
        "    [\n",
        "        r\"(.*)test (.*)\",\n",
        "        [\"No-one told me there would be a test\",]\n",
        "    ],\n",
        "\n",
        "     [\n",
        "        r\"(.*)do you believe in Santa? (.*)\",\n",
        "        [\"I believe in Santa! I admire his generosity and his ability to pull off head-to-toe velvet.\",]\n",
        "    ],\n",
        "\n",
        "     [\n",
        "        r\"(.*)give me a hug (.*)\",\n",
        "        [\"I am giving you a virtual hug right now\",]\n",
        "    ],\n",
        "\n",
        "    [\n",
        "        r\"quit\",\n",
        "        [\"Goodbye! Hope I could help :) \",\"It was fun talking to you. Have a nice day!\"]\n",
        "    ],\n",
        "\n",
        "]"
      ],
      "metadata": {
        "execution": {
          "iopub.status.busy": "2022-09-01T05:37:19.163475Z",
          "iopub.execute_input": "2022-09-01T05:37:19.163894Z",
          "iopub.status.idle": "2022-09-01T05:37:19.173836Z",
          "shell.execute_reply.started": "2022-09-01T05:37:19.163858Z",
          "shell.execute_reply": "2022-09-01T05:37:19.172992Z"
        },
        "trusted": true,
        "id": "GYfr7KxODv3J"
      },
      "execution_count": 10,
      "outputs": []
    },
    {
      "cell_type": "code",
      "source": [
        "print(reflections)"
      ],
      "metadata": {
        "execution": {
          "iopub.status.busy": "2022-09-01T05:37:23.699206Z",
          "iopub.execute_input": "2022-09-01T05:37:23.700549Z",
          "iopub.status.idle": "2022-09-01T05:37:23.705657Z",
          "shell.execute_reply.started": "2022-09-01T05:37:23.700505Z",
          "shell.execute_reply": "2022-09-01T05:37:23.704632Z"
        },
        "trusted": true,
        "colab": {
          "base_uri": "https://localhost:8080/"
        },
        "id": "bc_6Mn8yDv3K",
        "outputId": "cd52c3e1-b0be-4848-d995-201b3a84c18b"
      },
      "execution_count": 11,
      "outputs": [
        {
          "output_type": "stream",
          "name": "stdout",
          "text": [
            "{'i am': 'you are', 'i was': 'you were', 'i': 'you', \"i'm\": 'you are', \"i'd\": 'you would', \"i've\": 'you have', \"i'll\": 'you will', 'my': 'your', 'you are': 'I am', 'you were': 'I was', \"you've\": 'I have', \"you'll\": 'I will', 'your': 'my', 'yours': 'mine', 'you': 'me', 'me': 'you'}\n"
          ]
        }
      ]
    },
    {
      "cell_type": "code",
      "source": [
        "my_dummy_reflections= {\n",
        "    \"go\"     : \"gone\",\n",
        "    \"hello\"    : \"hey there\"\n",
        "}"
      ],
      "metadata": {
        "execution": {
          "iopub.status.busy": "2022-09-01T05:37:26.049235Z",
          "iopub.execute_input": "2022-09-01T05:37:26.050003Z",
          "iopub.status.idle": "2022-09-01T05:37:26.054487Z",
          "shell.execute_reply.started": "2022-09-01T05:37:26.049956Z",
          "shell.execute_reply": "2022-09-01T05:37:26.053553Z"
        },
        "trusted": true,
        "id": "zuvCpgK_Dv3K"
      },
      "execution_count": 12,
      "outputs": []
    },
    {
      "cell_type": "code",
      "source": [
        "chat = Chat(pairs, reflections)"
      ],
      "metadata": {
        "execution": {
          "iopub.status.busy": "2022-09-01T05:37:29.513109Z",
          "iopub.execute_input": "2022-09-01T05:37:29.513870Z",
          "iopub.status.idle": "2022-09-01T05:37:29.518874Z",
          "shell.execute_reply.started": "2022-09-01T05:37:29.513832Z",
          "shell.execute_reply": "2022-09-01T05:37:29.517583Z"
        },
        "trusted": true,
        "id": "cwhBT-NnDv3K"
      },
      "execution_count": 13,
      "outputs": []
    },
    {
      "cell_type": "code",
      "source": [
        "print(chat)"
      ],
      "metadata": {
        "execution": {
          "iopub.status.busy": "2022-09-01T05:37:31.809606Z",
          "iopub.execute_input": "2022-09-01T05:37:31.810037Z",
          "iopub.status.idle": "2022-09-01T05:37:31.815608Z",
          "shell.execute_reply.started": "2022-09-01T05:37:31.809998Z",
          "shell.execute_reply": "2022-09-01T05:37:31.814665Z"
        },
        "trusted": true,
        "colab": {
          "base_uri": "https://localhost:8080/"
        },
        "id": "z-Gep6euDv3L",
        "outputId": "7337ff79-a05c-4435-eb3f-51b03874ca0d"
      },
      "execution_count": 14,
      "outputs": [
        {
          "output_type": "stream",
          "name": "stdout",
          "text": [
            "<nltk.chat.util.Chat object at 0x7dbf1f1fbe20>\n"
          ]
        }
      ]
    },
    {
      "cell_type": "code",
      "source": [
        "chat.converse()"
      ],
      "metadata": {
        "id": "KrsRDsQCftBM"
      },
      "execution_count": null,
      "outputs": []
    }
  ]
}