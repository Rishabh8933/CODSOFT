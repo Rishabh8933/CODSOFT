{
  "nbformat": 4,
  "nbformat_minor": 0,
  "metadata": {
    "colab": {
      "provenance": [],
      "authorship_tag": "ABX9TyMVe8g44/AyBEdfPyFq6ZKW"
    },
    "kernelspec": {
      "name": "python3",
      "display_name": "Python 3"
    },
    "language_info": {
      "name": "python"
    }
  },
  "cells": [
    {
      "cell_type": "code",
      "execution_count": 2,
      "metadata": {
        "colab": {
          "base_uri": "https://localhost:8080/"
        },
        "id": "E7ivr-TUkR0I",
        "outputId": "a2c15e08-f9b2-4a1d-e0cc-83b3b8261566"
      },
      "outputs": [
        {
          "output_type": "stream",
          "name": "stdout",
          "text": [
            "Recommended movies for Inception:\n",
            "123                            The Matrix Revolutions\n",
            "2442                                  Southland Tales\n",
            "322                                 The Fifth Element\n",
            "2428                                Brooklyn's Finest\n",
            "784     In the Name of the King: A Dungeon Siege Tale\n",
            "1103                                     The Fugitive\n",
            "180                              The Bourne Ultimatum\n",
            "4077                                        Mad Max 2\n",
            "2941                                          Frailty\n",
            "139                           Mission: Impossible III\n",
            "Name: original_title, dtype: object\n"
          ]
        }
      ],
      "source": [
        "import pandas as pd\n",
        "from sklearn.feature_extraction.text import CountVectorizer\n",
        "from sklearn.metrics.pairwise import cosine_similarity\n",
        "\n",
        "movies = pd.read_csv('tmdb_5000_movies.csv')\n",
        "\n",
        "features = ['original_title', 'overview', 'keywords', 'genres']\n",
        "\n",
        "movies[features] = movies[features].fillna('')\n",
        "\n",
        "def combine_features(row):\n",
        "    return row['original_title'] + ' ' + row['overview'] + ' ' + row['keywords'] + ' ' + row['genres']\n",
        "\n",
        "movies['combined_features'] = movies.apply(combine_features, axis=1)\n",
        "\n",
        "count_vectorizer = CountVectorizer()\n",
        "count_matrix = count_vectorizer.fit_transform(movies['combined_features'])\n",
        "\n",
        "cosine_sim = cosine_similarity(count_matrix)\n",
        "\n",
        "def get_recommendations(movie_title, cosine_sim):\n",
        "    # Get the index of the movie\n",
        "    idx = movies[movies['original_title'] == movie_title].index[0]\n",
        "\n",
        "    # Get the similarity scores\n",
        "    sim_scores = list(enumerate(cosine_sim[idx]))\n",
        "\n",
        "    # Sort the movies based on similarity scores\n",
        "    sim_scores = sorted(sim_scores, key=lambda x: x[1], reverse=True)\n",
        "\n",
        "    # Get the top 10 most similar movies\n",
        "    top_movies = sim_scores[1:11]\n",
        "\n",
        "    # Get the movie titles\n",
        "    movie_indices = [movie[0] for movie in top_movies]\n",
        "    recommended_movies = movies['original_title'].iloc[movie_indices]\n",
        "\n",
        "    return recommended_movies\n",
        "\n",
        "movie_title = 'Inception'\n",
        "recommendations = get_recommendations(movie_title, cosine_sim)\n",
        "print(f\"Recommended movies for {movie_title}:\")\n",
        "print(recommendations)"
      ]
    }
  ]
}